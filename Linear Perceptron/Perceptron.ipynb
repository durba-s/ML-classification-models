{
 "cells": [
  {
   "cell_type": "markdown",
   "metadata": {},
   "source": [
    "# Assignment 1: Problem C\n",
    "#### In this problem, you will implement a linear perceptron as discussed in class. You have two different datasets for this assignment on which you need to train and test your model independently. Create 70:30 train-test splits on both the datasets and train the model for a maximum of 106 iterations in case the model does not converge on the given dataset."
   ]
  },
  {
   "cell_type": "code",
   "execution_count": 18,
   "metadata": {},
   "outputs": [],
   "source": [
    "import numpy as np\n",
    "import pandas as pd\n",
    "from matplotlib import pyplot as plt\n",
    "from mpl_toolkits.mplot3d import Axes3D"
   ]
  },
  {
   "cell_type": "code",
   "execution_count": 19,
   "metadata": {},
   "outputs": [],
   "source": [
    "#creating a 70:30 train-test split\n",
    "def process_data(fname):\n",
    "    df = pd.read_csv(fname,header=None,sep=',').sample(frac = 1)\n",
    "    n_70=(len(df))-(int(0.3*len(df)))\n",
    "    labels=np.array(df[df.columns[-1]])\n",
    "    data=np.array(df.drop(len(df.columns)-1,1))\n",
    "    \n",
    "    traindata=np.array(data[0:n_70])\n",
    "    trainlabels=np.array(labels[0:n_70])\n",
    "    testdata=np.array(data[n_70:len(df)])\n",
    "    testlabels=np.array(labels[n_70:len(df)])\n",
    "    return traindata,trainlabels,testdata,testlabels"
   ]
  },
  {
   "cell_type": "code",
   "execution_count": 20,
   "metadata": {},
   "outputs": [],
   "source": [
    "#predict target attribute\n",
    "def predict(X,w):\n",
    "    W=w[1:]\n",
    "    d=np.dot(X,W.T)\n",
    "    d=d+w[0]\n",
    "    d=np.heaviside(d+w[0],1)\n",
    "    return np.array(d)"
   ]
  },
  {
   "cell_type": "code",
   "execution_count": 21,
   "metadata": {},
   "outputs": [],
   "source": [
    "#testing the pereceptron algorithm\n",
    "def perceptron(train_x,train_y,test_x,test_y,eta, n_itr):\n",
    "    w= np.random.normal(0.0,1.0,len(train_x[0])+1)\n",
    "    num=0\n",
    "    for i in range (n_itr):\n",
    "        count=0\n",
    "        p=predict(train_x, w)\n",
    "        a=abs(p-train_y)\n",
    "        if(len(np.where(a ==1)[0])==0):\n",
    "            num=i\n",
    "            break\n",
    "        else:\n",
    "            num+=1\n",
    "            ind=np.where(a ==1)[0][0]\n",
    "            misclass_eg=train_x[ind]\n",
    "            if(train_y[ind]==1):\n",
    "                w[0]+=eta\n",
    "                w[1:]=w[1:]+(eta*misclass_eg)\n",
    "            else:\n",
    "                w[0]-=eta\n",
    "                w[1:]=w[1:]-(eta*misclass_eg)\n",
    "    predictions=predict(test_x,w)\n",
    "    a=test_y-predictions\n",
    "    correct=np.count_nonzero(a==0)\n",
    "    total=len(test_y)\n",
    "    accuracy=correct/total\n",
    "    tot1=len(train_y)\n",
    "    b=train_y-predict(train_x,w)\n",
    "    c1=np.count_nonzero(b==0)\n",
    "    return w,np.array(predictions),accuracy,num,(c1/tot1)"
   ]
  },
  {
   "cell_type": "code",
   "execution_count": 27,
   "metadata": {},
   "outputs": [
    {
     "name": "stdout",
     "output_type": "stream",
     "text": [
      "Dataset1\n",
      "Accuracy in training data =  0.9854318418314256\n",
      "Accuracy in testing data 0.975669099756691\n",
      "Not converged after 1000000 iterations\n"
     ]
    }
   ],
   "source": [
    "#passing values to functions\n",
    "fname='/Users/durbasatpathi/Desktop/ml/dataset_LP_1.txt'\n",
    "train_x,train_y,test_x,test_y=process_data(fname)\n",
    "w,prediction,accuracy,num,a1=perceptron(train_x,train_y,test_x,test_y,1,1000000)\n",
    "print('Dataset1')\n",
    "print('Accuracy in training data = ',a1)\n",
    "print('Accuracy in testing data',accuracy)\n",
    "if(num>=1000000):\n",
    "    print('Not converged after 1000000 iterations')\n",
    "else:\n",
    "    print('Converged after ',num,' iterations')"
   ]
  },
  {
   "cell_type": "code",
   "execution_count": 25,
   "metadata": {},
   "outputs": [
    {
     "name": "stdout",
     "output_type": "stream",
     "text": [
      "Dataset2\n",
      "Accuracy in training data =  1.0\n",
      "Accuracy in testing data 1.0\n",
      "Converged after  47  iterations\n"
     ]
    }
   ],
   "source": [
    "#passing values to functions\n",
    "fname='/Users/durbasatpathi/Desktop/ml/dataset_LP_2.csv'\n",
    "train_x,train_y,test_x,test_y=process_data(fname)\n",
    "w,prediction,accuracy,num,a1=perceptron(train_x,train_y,test_x,test_y,1,1000000)\n",
    "print('Dataset2')\n",
    "print('Accuracy in training data = ',a1)\n",
    "print('Accuracy in testing data',accuracy)\n",
    "if(num>=1000000):\n",
    "    print('Not converged after 1000000 iterations')\n",
    "else:\n",
    "    print('Converged after ',num,' iterations')"
   ]
  },
  {
   "cell_type": "code",
   "execution_count": null,
   "metadata": {},
   "outputs": [],
   "source": []
  }
 ],
 "metadata": {
  "kernelspec": {
   "display_name": "Python 3",
   "language": "python",
   "name": "python3"
  },
  "language_info": {
   "codemirror_mode": {
    "name": "ipython",
    "version": 3
   },
   "file_extension": ".py",
   "mimetype": "text/x-python",
   "name": "python",
   "nbconvert_exporter": "python",
   "pygments_lexer": "ipython3",
   "version": "3.8.5"
  }
 },
 "nbformat": 4,
 "nbformat_minor": 4
}
