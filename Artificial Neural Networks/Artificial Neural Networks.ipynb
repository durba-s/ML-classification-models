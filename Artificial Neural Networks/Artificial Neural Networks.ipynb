{
 "cells": [
  {
   "cell_type": "code",
   "execution_count": 1,
   "metadata": {
    "id": "kad_aVtsQtLt"
   },
   "outputs": [],
   "source": [
    "import numpy as np\n",
    "import pandas as pd\n",
    "import matplotlib.pyplot as plt"
   ]
  },
  {
   "cell_type": "code",
   "execution_count": 2,
   "metadata": {},
   "outputs": [],
   "source": [
    "def data_process(fname):\n",
    "    data=pd.read_csv(fname)\n",
    "    for col in data.columns:\n",
    "        if col != \"class\":\n",
    "                mean = data[col].mean()\n",
    "                sig = data[col].std()\n",
    "                data[col] = (data[col] - mean) / sig\n",
    "    train=data.sample(frac=0.7) \n",
    "    test=data.drop(train.index)\n",
    "    return train.iloc[:,:-1],test.iloc[:,:-1],train.iloc[:,-1],test.iloc[:,-1]"
   ]
  },
  {
   "cell_type": "code",
   "execution_count": 3,
   "metadata": {
    "id": "3kQMYNwQRKnp"
   },
   "outputs": [],
   "source": [
    "def initialize(dimensions):\n",
    "    weights = {}\n",
    "    L = len(dimensions) - 1\n",
    "    for l in range(1,L+1):\n",
    "        weights['W'+str(l)] = (np.random.randn(dimensions[l],dimensions[l-1])* np.sqrt(1/dimensions[l-1]))\n",
    "        weights['b'+str(l)] = np.zeros((dimensions[l],1))\n",
    "\n",
    "    return weights"
   ]
  },
  {
   "cell_type": "code",
   "execution_count": 58,
   "metadata": {
    "id": "fvx9G_4fTIeQ"
   },
   "outputs": [],
   "source": [
    "def neural_network(X,Y,y_train,layer_dims,iteration=6000,lr=0.01,activation='relu'):\n",
    "    \n",
    "    weights= initialize(layer_dims)\n",
    "    t=0\n",
    "    hist_cost = []\n",
    "    hist_acc=[]\n",
    "    for i in range(iteration):\n",
    "        zk,previous = forward_prop(X,weights,activation)\n",
    "        cost = crossEntropy(zk,Y) \n",
    "        pred_y2 = predicty(X,weights)\n",
    "        acc = np.mean(pred_y2.flatten()==y_train.flatten())*100\n",
    "        hist_cost.append(cost)\n",
    "        hist_acc.append(acc)\n",
    "        \n",
    "        pds = backprop(zk,Y,previous,weights,activation)\n",
    "         \n",
    "        if i%50 == 0:\n",
    "            print (\"Cost after iteration %i: %f\" %(i, cost))\n",
    "            \n",
    "        t += 1\n",
    "        weights = sgd(weights,pds,lr)\n",
    "        \n",
    "    print(\"Cost after iteration %i: %f\" %(i, cost)) \n",
    "    fig, (ax1, ax2) = plt.subplots(1, 2)\n",
    "    ax1.plot(np.squeeze(hist_cost))\n",
    "    ax2.plot(np.squeeze(hist_acc))\n",
    "    \n",
    "    plt.suptitle('Learing Rate = '+ str(lr))\n",
    "    plt.show()\n",
    "        \n",
    "    return weights"
   ]
  },
  {
   "cell_type": "code",
   "execution_count": 59,
   "metadata": {
    "id": "gnpBJMTKRYL4"
   },
   "outputs": [],
   "source": [
    "def forward_prop(X,weights,activation='relu'):\n",
    "    \n",
    "    previous = {}\n",
    "    A = X\n",
    "    previous['A'+str(0)] = X\n",
    "    L = len(weights) // 2  \n",
    "    for l in range(1,L):\n",
    "        A_prev = A\n",
    "        Z = np.dot(weights['W'+str(l)],A_prev) + weights['b'+str(l)]\n",
    "        previous['Z'+str(l)] = Z \n",
    "        if activation == 'tanh':\n",
    "            A = np.tanh(Z)\n",
    "            previous['A'+str(l)] = A\n",
    "        else:\n",
    "            A = relu(Z)\n",
    "            previous['A'+str(l)] = A       \n",
    "    Z = np.dot(weights['W'+str(L)],A) + weights['b'+str(L)]\n",
    "    previous['Z'+str(L)] = Z \n",
    "    zk = softmax(Z)\n",
    "    return zk,previous"
   ]
  },
  {
   "cell_type": "code",
   "execution_count": 60,
   "metadata": {
    "id": "wlQwapmGR7fG"
   },
   "outputs": [],
   "source": [
    "def backprop(zk,Y,previous,weights,activation='relu'):\n",
    "    pds = {}\n",
    "    L = len(weights) //2\n",
    "    m = zk.shape[1]\n",
    "    dZ = zk-Y\n",
    "    pds = gradient(dZ,pds,weights,previous,L,m)\n",
    "    for l in reversed(range(1,L)):\n",
    "        dA = pds['dA'+str(l)]\n",
    "        if activation =='tanh':\n",
    "            dZ = dA * tanh_grad(previous['Z'+str(l)])\n",
    "        else:\n",
    "            dZ = dA * relu_grad(previous['Z'+str(l)])   \n",
    "        pds = gradient(dZ,pds,weights,previous,l,m)\n",
    "    del pds['dA0']  \n",
    "    return pds"
   ]
  },
  {
   "cell_type": "code",
   "execution_count": 61,
   "metadata": {
    "id": "PINj5qYFQ0iC"
   },
   "outputs": [],
   "source": [
    "def relu(Z):\n",
    "    A = np.maximum(0,Z)\n",
    "    return A \n",
    "def relu_grad(Z):\n",
    "    grad = np.zeros(Z.shape)\n",
    "    grad[Z>0] =1 \n",
    "    return grad\n",
    "def tanh_grad(Z):\n",
    "    grad = (1 - np.tanh(Z)**2)\n",
    "    return grad\n",
    "def softmax(Z):\n",
    "    A = np.exp(Z)/(np.sum(np.exp(Z),axis = 0))\n",
    "    return A\n",
    "def sigmoid(x):\n",
    "    return 1/(1+np.exp(-x))\n",
    "\n",
    "def sigmoid_derv(x):\n",
    "    return sigmoid(x) *(1-sigmoid (x))"
   ]
  },
  {
   "cell_type": "code",
   "execution_count": 62,
   "metadata": {
    "id": "rk7SzGAuRxuC"
   },
   "outputs": [],
   "source": [
    "def gradient(dZ,pds,weights,previous,l,m):\n",
    "    dW = (1/m)* np.dot(dZ,previous['A'+str(l-1)].T)\n",
    "    pds['dW'+str(l)] = dW\n",
    "    db = (1/m)* np.sum(dZ,axis=1,keepdims=True)\n",
    "    pds['db'+str(l)] = db\n",
    "    dA_prev = np.dot(weights['W'+str(l)].T,dZ)\n",
    "    pds['dA'+str(l-1)] = dA_prev\n",
    "    return pds"
   ]
  },
  {
   "cell_type": "code",
   "execution_count": 63,
   "metadata": {
    "id": "HwkpXr2ITqde"
   },
   "outputs": [],
   "source": [
    "def sgd(weights, pds,lr= 0.01): \n",
    "    L = len(weights) // 2   \n",
    "    for l in range(L):\n",
    "        weights[\"W\" + str(l+1)] = weights[\"W\" + str(l+1)] - (lr*pds[\"dW\" + str(l+1)])\n",
    "        weights[\"b\" + str(l+1)] = weights[\"b\" + str(l+1)] - (lr*pds[\"db\" + str(l+1)])\n",
    "    return weights"
   ]
  },
  {
   "cell_type": "code",
   "execution_count": 64,
   "metadata": {
    "id": "xMKR85CXRnO7"
   },
   "outputs": [],
   "source": [
    "def crossEntropy(zk,Y):\n",
    "    cost =0\n",
    "    cost = np.mean(-np.sum(Y*np.log(zk),axis=0))        \n",
    "    return cost"
   ]
  },
  {
   "cell_type": "code",
   "execution_count": 65,
   "metadata": {
    "id": "-oLPwGwqsIFt"
   },
   "outputs": [],
   "source": [
    "def predicty(X2,weights2):\n",
    "    zk,_ = forward_prop(X2,weights2)\n",
    "    pred = np.argmax(zk,axis=0)+1\n",
    "    return pred"
   ]
  },
  {
   "cell_type": "code",
   "execution_count": 66,
   "metadata": {
    "id": "LXXV0S4DSFru"
   },
   "outputs": [],
   "source": [
    "import pandas as pd\n",
    "fname='/Users/durbasatpathi/Documents/ml/a2/dataset_NN.csv'\n",
    "X_train,x_test,y_train,y_test = data_process(fname)"
   ]
  },
  {
   "cell_type": "code",
   "execution_count": 67,
   "metadata": {
    "id": "dqUrMJYEVCOJ"
   },
   "outputs": [],
   "source": [
    "X_train = X_train.T\n",
    "x_test = x_test.T\n",
    "y_train_one_hot=pd.get_dummies(y_train).T\n",
    "y_test_one_hot=pd.get_dummies(y_test).T\n",
    "y_train = y_train.T\n",
    "y_test = y_test.T"
   ]
  },
  {
   "cell_type": "code",
   "execution_count": 68,
   "metadata": {
    "id": "fTmkQBkWs414"
   },
   "outputs": [],
   "source": [
    "X_train= np.array(X_train)\n",
    "y_train = np.array(y_train)\n",
    "x_test = np.array(x_test)\n",
    "y_test = np.array(y_test)\n",
    "y_train_one_hot = np.array(y_train_one_hot)\n",
    "y_test_one_hot = np.array(y_test_one_hot)\n"
   ]
  },
  {
   "cell_type": "code",
   "execution_count": 72,
   "metadata": {
    "colab": {
     "base_uri": "https://localhost:8080/",
     "height": 1000
    },
    "id": "pyVtwzaCV1ZC",
    "outputId": "62eae708-9bc5-4be7-f73b-84f02ccb315d"
   },
   "outputs": [
    {
     "name": "stdout",
     "output_type": "stream",
     "text": [
      "Cost after iteration 0: 2.438255\n",
      "Cost after iteration 50: 2.344169\n",
      "Cost after iteration 100: 2.259110\n",
      "Cost after iteration 150: 2.182006\n",
      "Cost after iteration 200: 2.111922\n",
      "Cost after iteration 250: 2.048043\n",
      "Cost after iteration 300: 1.989661\n",
      "Cost after iteration 350: 1.936159\n",
      "Cost after iteration 400: 1.887001\n",
      "Cost after iteration 450: 1.841718\n",
      "Cost after iteration 500: 1.799903\n",
      "Cost after iteration 550: 1.761197\n",
      "Cost after iteration 600: 1.725288\n",
      "Cost after iteration 650: 1.691899\n",
      "Cost after iteration 700: 1.660788\n",
      "Cost after iteration 750: 1.631740\n",
      "Cost after iteration 800: 1.604564\n",
      "Cost after iteration 850: 1.579091\n",
      "Cost after iteration 900: 1.555171\n",
      "Cost after iteration 950: 1.532668\n",
      "Cost after iteration 1000: 1.511461\n",
      "Cost after iteration 1050: 1.491442\n",
      "Cost after iteration 1100: 1.472514\n",
      "Cost after iteration 1150: 1.454587\n",
      "Cost after iteration 1200: 1.437583\n",
      "Cost after iteration 1250: 1.421428\n",
      "Cost after iteration 1300: 1.406059\n",
      "Cost after iteration 1350: 1.391415\n",
      "Cost after iteration 1400: 1.377442\n",
      "Cost after iteration 1450: 1.364092\n",
      "Cost after iteration 1500: 1.351320\n",
      "Cost after iteration 1550: 1.339085\n",
      "Cost after iteration 1600: 1.327351\n",
      "Cost after iteration 1650: 1.316083\n",
      "Cost after iteration 1700: 1.305251\n",
      "Cost after iteration 1750: 1.294827\n",
      "Cost after iteration 1800: 1.284784\n",
      "Cost after iteration 1850: 1.275099\n",
      "Cost after iteration 1900: 1.265751\n",
      "Cost after iteration 1950: 1.256719\n",
      "Cost after iteration 2000: 1.247985\n",
      "Cost after iteration 2050: 1.239532\n",
      "Cost after iteration 2100: 1.231345\n",
      "Cost after iteration 2150: 1.223410\n",
      "Cost after iteration 2200: 1.215712\n",
      "Cost after iteration 2250: 1.208240\n",
      "Cost after iteration 2300: 1.200983\n",
      "Cost after iteration 2350: 1.193930\n",
      "Cost after iteration 2400: 1.187071\n",
      "Cost after iteration 2450: 1.180396\n",
      "Cost after iteration 2500: 1.173898\n",
      "Cost after iteration 2550: 1.167569\n",
      "Cost after iteration 2600: 1.161400\n",
      "Cost after iteration 2650: 1.155386\n",
      "Cost after iteration 2700: 1.149519\n",
      "Cost after iteration 2750: 1.143793\n",
      "Cost after iteration 2800: 1.138202\n",
      "Cost after iteration 2850: 1.132742\n",
      "Cost after iteration 2900: 1.127407\n",
      "Cost after iteration 2950: 1.122192\n",
      "Cost after iteration 3000: 1.117092\n",
      "Cost after iteration 3050: 1.112104\n",
      "Cost after iteration 3100: 1.107222\n",
      "Cost after iteration 3150: 1.102444\n",
      "Cost after iteration 3200: 1.097766\n",
      "Cost after iteration 3250: 1.093184\n",
      "Cost after iteration 3300: 1.088694\n",
      "Cost after iteration 3350: 1.084294\n",
      "Cost after iteration 3400: 1.079980\n",
      "Cost after iteration 3450: 1.075750\n",
      "Cost after iteration 3500: 1.071602\n",
      "Cost after iteration 3550: 1.067531\n",
      "Cost after iteration 3600: 1.063537\n",
      "Cost after iteration 3650: 1.059616\n",
      "Cost after iteration 3700: 1.055766\n",
      "Cost after iteration 3750: 1.051985\n",
      "Cost after iteration 3800: 1.048271\n",
      "Cost after iteration 3850: 1.044623\n",
      "Cost after iteration 3900: 1.041037\n",
      "Cost after iteration 3950: 1.037512\n",
      "Cost after iteration 4000: 1.034047\n",
      "Cost after iteration 4050: 1.030640\n",
      "Cost after iteration 4100: 1.027289\n",
      "Cost after iteration 4150: 1.023993\n",
      "Cost after iteration 4200: 1.020750\n",
      "Cost after iteration 4250: 1.017558\n",
      "Cost after iteration 4300: 1.014417\n",
      "Cost after iteration 4350: 1.011325\n",
      "Cost after iteration 4400: 1.008280\n",
      "Cost after iteration 4450: 1.005282\n",
      "Cost after iteration 4500: 1.002329\n",
      "Cost after iteration 4550: 0.999421\n",
      "Cost after iteration 4600: 0.996555\n",
      "Cost after iteration 4650: 0.993731\n",
      "Cost after iteration 4700: 0.990948\n",
      "Cost after iteration 4750: 0.988205\n",
      "Cost after iteration 4800: 0.985502\n",
      "Cost after iteration 4850: 0.982836\n",
      "Cost after iteration 4900: 0.980207\n",
      "Cost after iteration 4950: 0.977615\n",
      "Cost after iteration 5000: 0.975058\n",
      "Cost after iteration 5050: 0.972535\n",
      "Cost after iteration 5100: 0.970047\n",
      "Cost after iteration 5150: 0.967591\n",
      "Cost after iteration 5200: 0.965168\n",
      "Cost after iteration 5250: 0.962777\n",
      "Cost after iteration 5300: 0.960416\n",
      "Cost after iteration 5350: 0.958086\n",
      "Cost after iteration 5400: 0.955786\n",
      "Cost after iteration 5450: 0.953514\n",
      "Cost after iteration 5500: 0.951271\n",
      "Cost after iteration 5550: 0.949056\n",
      "Cost after iteration 5600: 0.946868\n",
      "Cost after iteration 5650: 0.944706\n",
      "Cost after iteration 5700: 0.942571\n",
      "Cost after iteration 5750: 0.940462\n",
      "Cost after iteration 5800: 0.938377\n",
      "Cost after iteration 5850: 0.936318\n",
      "Cost after iteration 5900: 0.934282\n",
      "Cost after iteration 5950: 0.932270\n",
      "Cost after iteration 6000: 0.930281\n",
      "Cost after iteration 6050: 0.928315\n",
      "Cost after iteration 6100: 0.926372\n",
      "Cost after iteration 6150: 0.924450\n",
      "Cost after iteration 6200: 0.922550\n",
      "Cost after iteration 6250: 0.920671\n",
      "Cost after iteration 6300: 0.918813\n",
      "Cost after iteration 6350: 0.916975\n",
      "Cost after iteration 6400: 0.915157\n",
      "Cost after iteration 6450: 0.913359\n",
      "Cost after iteration 6500: 0.911580\n",
      "Cost after iteration 6550: 0.909820\n",
      "Cost after iteration 6600: 0.908079\n",
      "Cost after iteration 6650: 0.906356\n",
      "Cost after iteration 6700: 0.904651\n",
      "Cost after iteration 6750: 0.902964\n",
      "Cost after iteration 6800: 0.901294\n",
      "Cost after iteration 6850: 0.899642\n",
      "Cost after iteration 6900: 0.898006\n",
      "Cost after iteration 6950: 0.896387\n",
      "Cost after iteration 7000: 0.894784\n",
      "Cost after iteration 7050: 0.893197\n",
      "Cost after iteration 7100: 0.891626\n",
      "Cost after iteration 7150: 0.890071\n",
      "Cost after iteration 7200: 0.888530\n",
      "Cost after iteration 7250: 0.887005\n",
      "Cost after iteration 7300: 0.885495\n",
      "Cost after iteration 7350: 0.883999\n",
      "Cost after iteration 7400: 0.882517\n",
      "Cost after iteration 7450: 0.881050\n",
      "Cost after iteration 7500: 0.879597\n",
      "Cost after iteration 7550: 0.878157\n",
      "Cost after iteration 7600: 0.876731\n",
      "Cost after iteration 7650: 0.875318\n",
      "Cost after iteration 7700: 0.873918\n",
      "Cost after iteration 7750: 0.872531\n",
      "Cost after iteration 7800: 0.871157\n",
      "Cost after iteration 7850: 0.869796\n",
      "Cost after iteration 7900: 0.868447\n",
      "Cost after iteration 7950: 0.867110\n",
      "Cost after iteration 8000: 0.865785\n",
      "Cost after iteration 8050: 0.864472\n",
      "Cost after iteration 8100: 0.863170\n",
      "Cost after iteration 8150: 0.861880\n",
      "Cost after iteration 8200: 0.860602\n",
      "Cost after iteration 8250: 0.859335\n",
      "Cost after iteration 8300: 0.858078\n",
      "Cost after iteration 8350: 0.856833\n",
      "Cost after iteration 8400: 0.855598\n",
      "Cost after iteration 8450: 0.854375\n",
      "Cost after iteration 8500: 0.853161\n",
      "Cost after iteration 8550: 0.851958\n",
      "Cost after iteration 8600: 0.850765\n",
      "Cost after iteration 8650: 0.849582\n",
      "Cost after iteration 8700: 0.848409\n",
      "Cost after iteration 8750: 0.847246\n",
      "Cost after iteration 8800: 0.846093\n",
      "Cost after iteration 8850: 0.844949\n",
      "Cost after iteration 8900: 0.843815\n",
      "Cost after iteration 8950: 0.842689\n",
      "Cost after iteration 9000: 0.841574\n",
      "Cost after iteration 9050: 0.840467\n",
      "Cost after iteration 9100: 0.839369\n",
      "Cost after iteration 9150: 0.838280\n",
      "Cost after iteration 9200: 0.837200\n",
      "Cost after iteration 9250: 0.836128\n",
      "Cost after iteration 9300: 0.835065\n",
      "Cost after iteration 9350: 0.834011\n",
      "Cost after iteration 9400: 0.832964\n",
      "Cost after iteration 9450: 0.831927\n",
      "Cost after iteration 9500: 0.830897\n",
      "Cost after iteration 9550: 0.829875\n",
      "Cost after iteration 9600: 0.828861\n",
      "Cost after iteration 9650: 0.827855\n",
      "Cost after iteration 9700: 0.826857\n",
      "Cost after iteration 9750: 0.825866\n",
      "Cost after iteration 9800: 0.824883\n",
      "Cost after iteration 9850: 0.823908\n",
      "Cost after iteration 9900: 0.822940\n",
      "Cost after iteration 9950: 0.821979\n",
      "Cost after iteration 9999: 0.821045\n"
     ]
    },
    {
     "data": {
      "image/png": "[encoded data removed]",
      "text/plain": [
       "<Figure size 432x288 with 2 Axes>"
      ]
     },
     "metadata": {
      "needs_background": "light"
     },
     "output_type": "display_data"
    }
   ],
   "source": [
    "layer_dims2 = [6,32,10]\n",
    "weights2 = neural_network(X_train,y_train_one_hot,y_train,layer_dims2,lr=0.0015,iteration=10000,activation='tanh')"
   ]
  },
  {
   "cell_type": "code",
   "execution_count": 70,
   "metadata": {
    "colab": {
     "base_uri": "https://localhost:8080/"
    },
    "id": "76zQvTk1saZW",
    "outputId": "10999455-19cf-41e9-fc96-c60090d4c5ad"
   },
   "outputs": [
    {
     "name": "stdout",
     "output_type": "stream",
     "text": [
      "Accuracy on the dataset: 68.86 %\n"
     ]
    }
   ],
   "source": [
    "pred_y2 = predicty(X_train,weights2)\n",
    "acc = np.mean(pred_y2.flatten()==y_train.flatten())*100\n",
    "print('Accuracy on the dataset: %s %%' %round(acc,2))"
   ]
  },
  {
   "cell_type": "code",
   "execution_count": 71,
   "metadata": {
    "colab": {
     "base_uri": "https://localhost:8080/"
    },
    "id": "0j9hkTf0O7VN",
    "outputId": "0e667282-1219-4cd3-9e05-5ac28fcb056a"
   },
   "outputs": [
    {
     "name": "stdout",
     "output_type": "stream",
     "text": [
      "Accuracy on the dataset: 70.5 %\n"
     ]
    }
   ],
   "source": [
    "pred_y3 = predicty(x_test,weights2)\n",
    "acc1 = np.mean(pred_y3.flatten()==y_test.flatten())*100\n",
    "print('Accuracy on the dataset: %s %%' %round(acc1,2))"
   ]
  },
  {
   "cell_type": "code",
   "execution_count": null,
   "metadata": {},
   "outputs": [],
   "source": []
  },
  {
   "cell_type": "code",
   "execution_count": 76,
   "metadata": {},
   "outputs": [
    {
     "name": "stdout",
     "output_type": "stream",
     "text": [
      "Cost after iteration 0: 2.493323\n",
      "Cost after iteration 50: 2.375099\n",
      "Cost after iteration 100: 2.271562\n",
      "Cost after iteration 150: 2.180419\n",
      "Cost after iteration 200: 2.099800\n",
      "Cost after iteration 250: 2.028161\n",
      "Cost after iteration 300: 1.964209\n",
      "Cost after iteration 350: 1.906849\n",
      "Cost after iteration 400: 1.855145\n",
      "Cost after iteration 450: 1.808298\n",
      "Cost after iteration 500: 1.765631\n",
      "Cost after iteration 550: 1.726567\n",
      "Cost after iteration 600: 1.690620\n",
      "Cost after iteration 650: 1.657383\n",
      "Cost after iteration 700: 1.626511\n",
      "Cost after iteration 750: 1.597717\n",
      "Cost after iteration 800: 1.570759\n",
      "Cost after iteration 850: 1.545431\n",
      "Cost after iteration 900: 1.521561\n",
      "Cost after iteration 950: 1.499000\n",
      "Cost after iteration 1000: 1.477624\n",
      "Cost after iteration 1050: 1.457325\n",
      "Cost after iteration 1100: 1.438010\n",
      "Cost after iteration 1150: 1.419597\n",
      "Cost after iteration 1200: 1.402016\n",
      "Cost after iteration 1250: 1.385207\n",
      "Cost after iteration 1300: 1.369114\n",
      "Cost after iteration 1350: 1.353688\n",
      "Cost after iteration 1400: 1.338888\n",
      "Cost after iteration 1450: 1.324674\n",
      "Cost after iteration 1500: 1.311012\n",
      "Cost after iteration 1550: 1.297869\n",
      "Cost after iteration 1600: 1.285217\n",
      "Cost after iteration 1650: 1.273030\n",
      "Cost after iteration 1700: 1.261281\n",
      "Cost after iteration 1750: 1.249950\n",
      "Cost after iteration 1800: 1.239014\n",
      "Cost after iteration 1850: 1.228455\n",
      "Cost after iteration 1900: 1.218253\n",
      "Cost after iteration 1950: 1.208391\n",
      "Cost after iteration 2000: 1.198854\n",
      "Cost after iteration 2050: 1.189626\n",
      "Cost after iteration 2100: 1.180692\n",
      "Cost after iteration 2150: 1.172038\n",
      "Cost after iteration 2200: 1.163653\n",
      "Cost after iteration 2250: 1.155524\n",
      "Cost after iteration 2300: 1.147639\n",
      "Cost after iteration 2350: 1.139987\n",
      "Cost after iteration 2400: 1.132559\n",
      "Cost after iteration 2450: 1.125344\n",
      "Cost after iteration 2500: 1.118333\n",
      "Cost after iteration 2550: 1.111518\n",
      "Cost after iteration 2600: 1.104889\n",
      "Cost after iteration 2650: 1.098440\n",
      "Cost after iteration 2700: 1.092163\n",
      "Cost after iteration 2750: 1.086050\n",
      "Cost after iteration 2800: 1.080095\n",
      "Cost after iteration 2850: 1.074292\n",
      "Cost after iteration 2900: 1.068634\n",
      "Cost after iteration 2950: 1.063116\n",
      "Cost after iteration 3000: 1.057732\n",
      "Cost after iteration 3050: 1.052478\n",
      "Cost after iteration 3100: 1.047347\n",
      "Cost after iteration 3150: 1.042337\n",
      "Cost after iteration 3200: 1.037441\n",
      "Cost after iteration 3250: 1.032657\n",
      "Cost after iteration 3300: 1.027979\n",
      "Cost after iteration 3350: 1.023405\n",
      "Cost after iteration 3400: 1.018929\n",
      "Cost after iteration 3450: 1.014550\n",
      "Cost after iteration 3500: 1.010264\n",
      "Cost after iteration 3550: 1.006067\n",
      "Cost after iteration 3600: 1.001956\n",
      "Cost after iteration 3650: 0.997929\n",
      "Cost after iteration 3700: 0.993983\n",
      "Cost after iteration 3750: 0.990115\n",
      "Cost after iteration 3800: 0.986322\n",
      "Cost after iteration 3850: 0.982603\n",
      "Cost after iteration 3900: 0.978955\n",
      "Cost after iteration 3950: 0.975376\n",
      "Cost after iteration 4000: 0.971864\n",
      "Cost after iteration 4050: 0.968416\n",
      "Cost after iteration 4100: 0.965031\n",
      "Cost after iteration 4150: 0.961707\n",
      "Cost after iteration 4200: 0.958442\n",
      "Cost after iteration 4250: 0.955234\n",
      "Cost after iteration 4300: 0.952082\n",
      "Cost after iteration 4350: 0.948985\n",
      "Cost after iteration 4400: 0.945940\n",
      "Cost after iteration 4450: 0.942946\n",
      "Cost after iteration 4500: 0.940002\n",
      "Cost after iteration 4550: 0.937107\n",
      "Cost after iteration 4600: 0.934259\n",
      "Cost after iteration 4650: 0.931456\n",
      "Cost after iteration 4700: 0.928699\n",
      "Cost after iteration 4750: 0.925985\n",
      "Cost after iteration 4800: 0.923313\n",
      "Cost after iteration 4850: 0.920683\n",
      "Cost after iteration 4900: 0.918093\n",
      "Cost after iteration 4950: 0.915543\n",
      "Cost after iteration 5000: 0.913031\n",
      "Cost after iteration 5050: 0.910556\n",
      "Cost after iteration 5100: 0.908119\n",
      "Cost after iteration 5150: 0.905716\n",
      "Cost after iteration 5200: 0.903349\n",
      "Cost after iteration 5250: 0.901015\n",
      "Cost after iteration 5300: 0.898715\n",
      "Cost after iteration 5350: 0.896448\n",
      "Cost after iteration 5400: 0.894212\n",
      "Cost after iteration 5450: 0.892007\n",
      "Cost after iteration 5500: 0.889832\n",
      "Cost after iteration 5550: 0.887687\n",
      "Cost after iteration 5600: 0.885572\n",
      "Cost after iteration 5650: 0.883484\n",
      "Cost after iteration 5700: 0.881425\n",
      "Cost after iteration 5750: 0.879392\n",
      "Cost after iteration 5800: 0.877387\n",
      "Cost after iteration 5850: 0.875407\n",
      "Cost after iteration 5900: 0.873453\n",
      "Cost after iteration 5950: 0.871524\n",
      "Cost after iteration 6000: 0.869620\n",
      "Cost after iteration 6050: 0.867739\n",
      "Cost after iteration 6100: 0.865883\n",
      "Cost after iteration 6150: 0.864049\n",
      "Cost after iteration 6200: 0.862238\n",
      "Cost after iteration 6250: 0.860449\n",
      "Cost after iteration 6300: 0.858682\n",
      "Cost after iteration 6350: 0.856937\n",
      "Cost after iteration 6400: 0.855212\n",
      "Cost after iteration 6450: 0.853508\n",
      "Cost after iteration 6500: 0.851825\n",
      "Cost after iteration 6550: 0.850161\n",
      "Cost after iteration 6600: 0.848516\n",
      "Cost after iteration 6650: 0.846891\n",
      "Cost after iteration 6700: 0.845285\n",
      "Cost after iteration 6750: 0.843697\n",
      "Cost after iteration 6800: 0.842127\n",
      "Cost after iteration 6850: 0.840575\n",
      "Cost after iteration 6900: 0.839040\n",
      "Cost after iteration 6950: 0.837523\n",
      "Cost after iteration 7000: 0.836023\n",
      "Cost after iteration 7050: 0.834539\n",
      "Cost after iteration 7100: 0.833072\n",
      "Cost after iteration 7150: 0.831621\n",
      "Cost after iteration 7200: 0.830185\n",
      "Cost after iteration 7250: 0.828765\n",
      "Cost after iteration 7300: 0.827361\n",
      "Cost after iteration 7350: 0.825972\n",
      "Cost after iteration 7400: 0.824597\n",
      "Cost after iteration 7450: 0.823237\n",
      "Cost after iteration 7500: 0.821891\n",
      "Cost after iteration 7550: 0.820560\n",
      "Cost after iteration 7600: 0.819242\n",
      "Cost after iteration 7650: 0.817938\n",
      "Cost after iteration 7700: 0.816648\n",
      "Cost after iteration 7750: 0.815371\n",
      "Cost after iteration 7800: 0.814107\n",
      "Cost after iteration 7850: 0.812856\n",
      "Cost after iteration 7900: 0.811618\n",
      "Cost after iteration 7950: 0.810392\n",
      "Cost after iteration 8000: 0.809178\n",
      "Cost after iteration 8050: 0.807977\n",
      "Cost after iteration 8100: 0.806787\n",
      "Cost after iteration 8150: 0.805610\n",
      "Cost after iteration 8200: 0.804444\n",
      "Cost after iteration 8250: 0.803289\n",
      "Cost after iteration 8300: 0.802146\n",
      "Cost after iteration 8350: 0.801014\n",
      "Cost after iteration 8400: 0.799892\n",
      "Cost after iteration 8450: 0.798782\n",
      "Cost after iteration 8500: 0.797682\n",
      "Cost after iteration 8550: 0.796593\n",
      "Cost after iteration 8600: 0.795514\n",
      "Cost after iteration 8650: 0.794446\n",
      "Cost after iteration 8700: 0.793387\n",
      "Cost after iteration 8750: 0.792339\n",
      "Cost after iteration 8800: 0.791300\n",
      "Cost after iteration 8850: 0.790271\n",
      "Cost after iteration 8900: 0.789251\n",
      "Cost after iteration 8950: 0.788241\n",
      "Cost after iteration 9000: 0.787241\n",
      "Cost after iteration 9050: 0.786249\n",
      "Cost after iteration 9100: 0.785267\n",
      "Cost after iteration 9150: 0.784293\n",
      "Cost after iteration 9200: 0.783328\n",
      "Cost after iteration 9250: 0.782372\n",
      "Cost after iteration 9300: 0.781425\n",
      "Cost after iteration 9350: 0.780486\n",
      "Cost after iteration 9400: 0.779555\n",
      "Cost after iteration 9450: 0.778633\n",
      "Cost after iteration 9500: 0.777719\n",
      "Cost after iteration 9550: 0.776813\n",
      "Cost after iteration 9600: 0.775914\n",
      "Cost after iteration 9650: 0.775024\n",
      "Cost after iteration 9700: 0.774142\n",
      "Cost after iteration 9750: 0.773267\n",
      "Cost after iteration 9800: 0.772399\n",
      "Cost after iteration 9850: 0.771540\n",
      "Cost after iteration 9900: 0.770687\n",
      "Cost after iteration 9950: 0.769842\n",
      "Cost after iteration 9999: 0.769021\n"
     ]
    },
    {
     "data": {
      "image/png": "[encoded data removed]",
      "text/plain": [
       "<Figure size 432x288 with 2 Axes>"
      ]
     },
     "metadata": {
      "needs_background": "light"
     },
     "output_type": "display_data"
    }
   ],
   "source": [
    "layer_dims2 = [6,32,10]\n",
    "weights2 = neural_network(X_train,y_train_one_hot,y_train,layer_dims2,lr=0.002,iteration=10000,activation='tanh')"
   ]
  },
  {
   "cell_type": "code",
   "execution_count": 30,
   "metadata": {},
   "outputs": [
    {
     "name": "stdout",
     "output_type": "stream",
     "text": [
      "Accuracy on the dataset: 56.36 %\n",
      "Accuracy on the dataset: 58.67 %\n"
     ]
    }
   ],
   "source": [
    "pred_y2 = predicty(X_train,weights2)\n",
    "acc = np.mean(pred_y2.flatten()==y_train.flatten())*100\n",
    "print('Accuracy on the dataset: %s %%' %round(acc,2))\n",
    "pred_y3 = predicty(x_test,weights2)\n",
    "acc1 = np.mean(pred_y3.flatten()==y_test.flatten())*100\n",
    "print('Accuracy on the dataset: %s %%' %round(acc1,2))"
   ]
  },
  {
   "cell_type": "code",
   "execution_count": null,
   "metadata": {},
   "outputs": [],
   "source": []
  },
  {
   "cell_type": "code",
   "execution_count": null,
   "metadata": {},
   "outputs": [],
   "source": []
  },
  {
   "cell_type": "code",
   "execution_count": 75,
   "metadata": {
    "scrolled": false
   },
   "outputs": [
    {
     "name": "stdout",
     "output_type": "stream",
     "text": [
      "Cost after iteration 0: 2.607668\n",
      "Cost after iteration 50: 0.751901\n",
      "Cost after iteration 99: 0.669626\n"
     ]
    },
    {
     "data": {
      "image/png": "[encoded data removed]",
      "text/plain": [
       "<Figure size 432x288 with 2 Axes>"
      ]
     },
     "metadata": {
      "needs_background": "light"
     },
     "output_type": "display_data"
    }
   ],
   "source": [
    "layer_dims2 = [6,32,10]\n",
    "weights2 = neural_network(X_train,y_train_one_hot,y_train,layer_dims2,lr=0.5,iteration=100,activation='tanh')"
   ]
  },
  {
   "cell_type": "code",
   "execution_count": 41,
   "metadata": {},
   "outputs": [
    {
     "name": "stdout",
     "output_type": "stream",
     "text": [
      "Accuracy on the dataset: 57.14 %\n",
      "Accuracy on the dataset: 56.67 %\n"
     ]
    }
   ],
   "source": [
    "pred_y2 = predicty(X_train,weights2)\n",
    "acc = np.mean(pred_y2.flatten()==y_train.flatten())*100\n",
    "print('Accuracy on the dataset: %s %%' %round(acc,2))\n",
    "pred_y3 = predicty(x_test,weights2)\n",
    "acc1 = np.mean(pred_y3.flatten()==y_test.flatten())*100\n",
    "print('Accuracy on the dataset: %s %%' %round(acc1,2))"
   ]
  },
  {
   "cell_type": "code",
   "execution_count": null,
   "metadata": {},
   "outputs": [],
   "source": []
  },
  {
   "cell_type": "code",
   "execution_count": 77,
   "metadata": {},
   "outputs": [
    {
     "name": "stdout",
     "output_type": "stream",
     "text": [
      "Cost after iteration 0: 2.407796\n",
      "Cost after iteration 50: 2.035775\n",
      "Cost after iteration 100: 1.785730\n",
      "Cost after iteration 150: 1.588415\n",
      "Cost after iteration 200: 1.430994\n",
      "Cost after iteration 250: 1.305002\n",
      "Cost after iteration 300: 1.202436\n",
      "Cost after iteration 350: 1.118481\n",
      "Cost after iteration 400: 1.050166\n",
      "Cost after iteration 450: 0.994887\n",
      "Cost after iteration 500: 0.949531\n",
      "Cost after iteration 550: 0.911651\n",
      "Cost after iteration 600: 0.879443\n",
      "Cost after iteration 650: 0.851955\n",
      "Cost after iteration 700: 0.828326\n",
      "Cost after iteration 750: 0.808080\n",
      "Cost after iteration 800: 0.790667\n",
      "Cost after iteration 850: 0.775773\n",
      "Cost after iteration 900: 0.762956\n",
      "Cost after iteration 950: 0.751857\n",
      "Cost after iteration 999: 0.742353\n"
     ]
    },
    {
     "data": {
      "image/png": "[encoded data removed]",
      "text/plain": [
       "<Figure size 432x288 with 2 Axes>"
      ]
     },
     "metadata": {
      "needs_background": "light"
     },
     "output_type": "display_data"
    }
   ],
   "source": [
    "layer_dims2 = [6,32,32,10]\n",
    "weights2 = neural_network(X_train,y_train_one_hot,y_train,layer_dims2,lr=0.015,iteration=1000,activation='relu')"
   ]
  },
  {
   "cell_type": "code",
   "execution_count": 74,
   "metadata": {},
   "outputs": [
    {
     "name": "stdout",
     "output_type": "stream",
     "text": [
      "Accuracy on the dataset: 71.79 %\n",
      "Accuracy on the dataset: 68.83 %\n"
     ]
    }
   ],
   "source": [
    "pred_y2 = predicty(X_train,weights2)\n",
    "acc = np.mean(pred_y2.flatten()==y_train.flatten())*100\n",
    "print('Accuracy on the dataset: %s %%' %round(acc,2))\n",
    "pred_y3 = predicty(x_test,weights2)\n",
    "acc1 = np.mean(pred_y3.flatten()==y_test.flatten())*100\n",
    "print('Accuracy on the dataset: %s %%' %round(acc1,2))"
   ]
  },
  {
   "cell_type": "code",
   "execution_count": null,
   "metadata": {},
   "outputs": [],
   "source": []
  },
  {
   "cell_type": "code",
   "execution_count": null,
   "metadata": {},
   "outputs": [],
   "source": []
  },
  {
   "cell_type": "code",
   "execution_count": 78,
   "metadata": {},
   "outputs": [
    {
     "name": "stdout",
     "output_type": "stream",
     "text": [
      "Cost after iteration 0: 2.481342\n",
      "Cost after iteration 50: 1.425255\n",
      "Cost after iteration 100: 1.085858\n",
      "Cost after iteration 150: 0.924114\n",
      "Cost after iteration 200: 0.837258\n",
      "Cost after iteration 250: 0.783885\n",
      "Cost after iteration 300: 0.748538\n",
      "Cost after iteration 350: 0.724458\n",
      "Cost after iteration 400: 0.707446\n",
      "Cost after iteration 450: 0.694641\n",
      "Cost after iteration 500: 0.684365\n",
      "Cost after iteration 550: 0.675707\n",
      "Cost after iteration 600: 0.667940\n",
      "Cost after iteration 650: 0.661007\n",
      "Cost after iteration 700: 0.654517\n",
      "Cost after iteration 750: 0.648291\n",
      "Cost after iteration 800: 0.642480\n",
      "Cost after iteration 850: 0.636955\n",
      "Cost after iteration 900: 0.631719\n",
      "Cost after iteration 950: 0.626704\n",
      "Cost after iteration 999: 0.621921\n"
     ]
    },
    {
     "data": {
      "image/png": "[encoded data removed]",
      "text/plain": [
       "<Figure size 432x288 with 2 Axes>"
      ]
     },
     "metadata": {
      "needs_background": "light"
     },
     "output_type": "display_data"
    }
   ],
   "source": [
    "layer_dims2 = [6,32,32,10]\n",
    "weights2 = neural_network(X_train,y_train_one_hot,y_train,layer_dims2,lr=0.05,iteration=1000,activation='relu')"
   ]
  },
  {
   "cell_type": "code",
   "execution_count": 79,
   "metadata": {},
   "outputs": [
    {
     "name": "stdout",
     "output_type": "stream",
     "text": [
      "Accuracy on the dataset: 73.57 %\n",
      "Accuracy on the dataset: 71.33 %\n"
     ]
    }
   ],
   "source": [
    "pred_y2 = predicty(X_train,weights2)\n",
    "acc = np.mean(pred_y2.flatten()==y_train.flatten())*100\n",
    "print('Accuracy on the dataset: %s %%' %round(acc,2))\n",
    "pred_y3 = predicty(x_test,weights2)\n",
    "acc1 = np.mean(pred_y3.flatten()==y_test.flatten())*100\n",
    "print('Accuracy on the dataset: %s %%' %round(acc1,2))"
   ]
  },
  {
   "cell_type": "code",
   "execution_count": null,
   "metadata": {},
   "outputs": [],
   "source": []
  },
  {
   "cell_type": "code",
   "execution_count": 80,
   "metadata": {},
   "outputs": [
    {
     "name": "stdout",
     "output_type": "stream",
     "text": [
      "Cost after iteration 0: 2.597664\n",
      "Cost after iteration 50: 1.068640\n",
      "Cost after iteration 99: 0.807507\n"
     ]
    },
    {
     "data": {
      "image/png": "[encoded data removed]",
      "text/plain": [
       "<Figure size 432x288 with 2 Axes>"
      ]
     },
     "metadata": {
      "needs_background": "light"
     },
     "output_type": "display_data"
    }
   ],
   "source": [
    "layer_dims2 = [6,32,32,10]\n",
    "weights2 = neural_network(X_train,y_train_one_hot,y_train,layer_dims2,lr=0.1,iteration=100,activation='relu')"
   ]
  },
  {
   "cell_type": "code",
   "execution_count": 81,
   "metadata": {},
   "outputs": [
    {
     "name": "stdout",
     "output_type": "stream",
     "text": [
      "Accuracy on the dataset: 70.93 %\n",
      "Accuracy on the dataset: 68.0 %\n"
     ]
    }
   ],
   "source": [
    "pred_y2 = predicty(X_train,weights2)\n",
    "acc = np.mean(pred_y2.flatten()==y_train.flatten())*100\n",
    "print('Accuracy on the dataset: %s %%' %round(acc,2))\n",
    "pred_y3 = predicty(x_test,weights2)\n",
    "acc1 = np.mean(pred_y3.flatten()==y_test.flatten())*100\n",
    "print('Accuracy on the dataset: %s %%' %round(acc1,2))"
   ]
  },
  {
   "cell_type": "code",
   "execution_count": null,
   "metadata": {},
   "outputs": [],
   "source": []
  }
 ],
 "metadata": {
  "colab": {
   "collapsed_sections": [],
   "name": "Copy of Copy of Untitled24.ipynb",
   "provenance": []
  },
  "kernelspec": {
   "display_name": "Python 3",
   "language": "python",
   "name": "python3"
  },
  "language_info": {
   "codemirror_mode": {
    "name": "ipython",
    "version": 3
   },
   "file_extension": ".py",
   "mimetype": "text/x-python",
   "name": "python",
   "nbconvert_exporter": "python",
   "pygments_lexer": "ipython3",
   "version": "3.8.5"
  }
 },
 "nbformat": 4,
 "nbformat_minor": 1
}
