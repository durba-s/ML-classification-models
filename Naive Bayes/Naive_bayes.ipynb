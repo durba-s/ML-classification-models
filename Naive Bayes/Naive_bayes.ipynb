{
 "cells": [
  {
   "cell_type": "markdown",
   "metadata": {},
   "source": [
    "# Assignment 1: Problem B\n",
    "#### In this problem, you will implement a simple Naive Bayes classifier to classifiy mails as spam or not. You will need to create a 7-fold cross validation to train and test your model. You may choose to discard various stop words, commas, fullstops, numbers, hyphens, brackets, exclamation marks and any other single/double letter words (such as a, an, the, be etc) which do not contribute to the sentiment of the text.Use laplace smoothening to avoid the problem of divison by zero."
   ]
  },
  {
   "cell_type": "code",
   "execution_count": 25,
   "metadata": {},
   "outputs": [],
   "source": [
    "import numpy as np\n",
    "import pandas as pd\n",
    "from matplotlib import pyplot as plt\n",
    "from mpl_toolkits.mplot3d import Axes3D\n",
    "import string\n",
    "import re "
   ]
  },
  {
   "cell_type": "code",
   "execution_count": 26,
   "metadata": {},
   "outputs": [],
   "source": [
    "def process_data(fname):\n",
    "    df = pd.read_csv(fname,sep='\\n',header=None)\n",
    "    data=np.array(df)\n",
    "    punc = '''!()-[]{};:'\"\\,<>./?@#$%^&*_~'''\n",
    "    proc_data=[]\n",
    "   \n",
    "    for row in range(len(data)):\n",
    "        for ele in data[row][0]:  \n",
    "            if (ele in punc):  \n",
    "                data[row][0] = data[row][0].replace(ele,\" \")\n",
    "    for row in range(len(data)):\n",
    "        proc_data.append(data[row][0].split())\n",
    "        for i in range(len(proc_data[row])):\n",
    "            proc_data[row][i]=proc_data[row][i].lower()\n",
    "    for i in range(len(proc_data)):\n",
    "        j=0\n",
    "        while (j<len(proc_data[i])):\n",
    "            if(len(proc_data[i][j])<=2 and (proc_data[i][j]!='1' and proc_data[i][j]!='0')):\n",
    "                proc_data[i].remove(proc_data[i][j])\n",
    "                j=j-1 \n",
    "            j+=1\n",
    "    \n",
    "\n",
    "    return proc_data"
   ]
  },
  {
   "cell_type": "code",
   "execution_count": 27,
   "metadata": {},
   "outputs": [],
   "source": [
    "def crossvalidation(data,f):\n",
    "    testset={}\n",
    "    trainset={}\n",
    "    size=len(data)\n",
    "    for i in range(f):\n",
    "        testset[i]=data[(int)(i*size/f):(int)((i+1)*size/f)]\n",
    "        trainset[i]=data[0:(int)((i)*size/f)]+data[(int)((i+1)*size/f):size]\n",
    "    return testset,trainset"
   ]
  },
  {
   "cell_type": "code",
   "execution_count": 28,
   "metadata": {},
   "outputs": [],
   "source": [
    "def make_dataset(values):\n",
    "    dataset={}\n",
    "    count=np.zeros(2)\n",
    "    c1=np.zeros(2)\n",
    "    for i in range(len(values)):\n",
    "        c1[int(values[i][-1])]+=1\n",
    "        for word in values[i][0:-1]:\n",
    "            pair=(word,int(values[i][-1]))\n",
    "            count[int(values[i][-1])]+=1\n",
    "            if pair in dataset:\n",
    "                dataset[pair]+=1\n",
    "            else:\n",
    "                dataset[pair]=1\n",
    "            \n",
    "    return dataset,count,c1"
   ]
  },
  {
   "cell_type": "code",
   "execution_count": 29,
   "metadata": {},
   "outputs": [],
   "source": [
    "def prob(f,n,v,a):\n",
    "    pro=float((f+a)/(n+(a*v)))\n",
    "    return pro"
   ]
  },
  {
   "cell_type": "code",
   "execution_count": 30,
   "metadata": {},
   "outputs": [],
   "source": [
    "def training(train,alpha):\n",
    "    dataset,count,c1=make_dataset(train)\n",
    "    n=np.array([keys[0] for keys in dataset.keys()])\n",
    "    n=np.unique(n)\n",
    "    d=len(n)\n",
    "    for key in dataset.keys():\n",
    "        if key[1]==1:\n",
    "            dataset[key]=prob(dataset[key],count[1],d,alpha)\n",
    "        else:\n",
    "            dataset[key]=prob(dataset[key],count[0],d,alpha)\n",
    "    \n",
    "    return dataset,count,c1,d       \n",
    "            \n",
    "    "
   ]
  },
  {
   "cell_type": "code",
   "execution_count": 31,
   "metadata": {},
   "outputs": [],
   "source": [
    "def naive_bayes(train,test):\n",
    "    dataset,count,c1,d=training(train,1)\n",
    "    p0=c1[0]/((c1[0]+c1[1]))\n",
    "    predict=[]\n",
    "    for i in range(len(test)):\n",
    "        prob0=p0\n",
    "        prob1=1-p0\n",
    "        for word in test[i][0:-1]:\n",
    "            pair0=(word,0)\n",
    "            pair1=(word,1)\n",
    "            if pair0 in dataset:\n",
    "                prob0=prob0*dataset[pair0]\n",
    "            else:\n",
    "                prob0=prob0*prob(0,count[0],d,1)\n",
    "            if pair1 in dataset:\n",
    "                prob1=prob1*dataset[pair1]\n",
    "            else:\n",
    "                prob1=prob1*prob(0,count[1],d,1)\n",
    "            \n",
    "        if(prob0>prob1):\n",
    "            predict.append(0)\n",
    "        else:\n",
    "             predict.append(1)\n",
    "    correct=0\n",
    "    for i in range(len(test)):\n",
    "        if int(test[i][-1])==predict[i]:\n",
    "            correct+=1\n",
    "    accuracy=float((correct*100)/len(test))\n",
    "    return accuracy\n",
    "  "
   ]
  },
  {
   "cell_type": "code",
   "execution_count": 32,
   "metadata": {
    "scrolled": false
   },
   "outputs": [
    {
     "name": "stdout",
     "output_type": "stream",
     "text": [
      "Accuracy over fold  1 :    80.98591549295774 %\n",
      "Accuracy over fold  2 :    86.01398601398601 %\n",
      "Accuracy over fold  3 :    82.51748251748252 %\n",
      "Accuracy over fold  4 :    81.81818181818181 %\n",
      "Accuracy over fold  5 :    80.41958041958041 %\n",
      "Accuracy over fold  6 :    82.51748251748252 %\n",
      "Accuracy over fold  7 :    78.32167832167832 %\n",
      "Overall average accuracy:  81.7991867287642 %\n"
     ]
    }
   ],
   "source": [
    "fname='/Users/durbasatpathi/Desktop/ml/dataset_NB.txt'\n",
    "data=process_data(fname)\n",
    "test,train = crossvalidation(data,7)\n",
    "accuracy=0\n",
    "for i in range(7):\n",
    "    a=naive_bayes(train[i],test[i])\n",
    "    accuracy+=a\n",
    "    print('Accuracy over fold ',i+1,':   ',a,'%')\n",
    "print('Overall average accuracy: ',accuracy/7,'%')\n",
    "\n"
   ]
  }
 ],
 "metadata": {
  "kernelspec": {
   "display_name": "Python 3",
   "language": "python",
   "name": "python3"
  },
  "language_info": {
   "codemirror_mode": {
    "name": "ipython",
    "version": 3
   },
   "file_extension": ".py",
   "mimetype": "text/x-python",
   "name": "python",
   "nbconvert_exporter": "python",
   "pygments_lexer": "ipython3",
   "version": "3.8.5"
  }
 },
 "nbformat": 4,
 "nbformat_minor": 4
}
